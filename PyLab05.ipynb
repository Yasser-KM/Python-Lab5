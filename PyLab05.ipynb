{
  "nbformat": 4,
  "nbformat_minor": 0,
  "metadata": {
    "colab": {
      "provenance": []
    },
    "kernelspec": {
      "name": "python3",
      "display_name": "Python 3"
    },
    "language_info": {
      "name": "python"
    }
  },
  "cells": [
    {
      "cell_type": "code",
      "source": [
        "def dec(n):\n",
        "    decList = list(range(1, n + 1))\n",
        "    for i in reversed(decList):\n",
        "        for y in reversed(decList[:i]):\n",
        "            print(y)\n",
        "        print()\n",
        "n = 7\n",
        "dec(n)"
      ],
      "metadata": {
        "colab": {
          "base_uri": "https://localhost:8080/"
        },
        "id": "nRTDwAK7Mhaz",
        "outputId": "ae0681d9-7053-49c2-eb83-71a013d22bd7"
      },
      "execution_count": 32,
      "outputs": [
        {
          "output_type": "stream",
          "name": "stdout",
          "text": [
            "7\n",
            "6\n",
            "5\n",
            "4\n",
            "3\n",
            "2\n",
            "1\n",
            "\n",
            "6\n",
            "5\n",
            "4\n",
            "3\n",
            "2\n",
            "1\n",
            "\n",
            "5\n",
            "4\n",
            "3\n",
            "2\n",
            "1\n",
            "\n",
            "4\n",
            "3\n",
            "2\n",
            "1\n",
            "\n",
            "3\n",
            "2\n",
            "1\n",
            "\n",
            "2\n",
            "1\n",
            "\n",
            "1\n",
            "\n"
          ]
        }
      ]
    }
  ]
}